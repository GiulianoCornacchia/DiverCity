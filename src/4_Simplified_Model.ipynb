{
 "cells": [
  {
   "cell_type": "markdown",
   "id": "74dbd1f7-9123-48c9-b238-95d3b6b61ac9",
   "metadata": {},
   "source": [
    "# **Notebook 4 - Simplified Model (Controlled Simulations)**\n",
    "\n",
    "---\n",
    "\n",
    "## **Overview**\n",
    "This notebook reproduces the **controlled simulations** used to isolate the causal effects of mobility attractors on potential route diversification.  \n",
    "By modeling an artificial city as a **regular grid (lattice)**, it allows us to systematically vary the **position**, **number**, and **speed limits** of attractors while keeping all other network properties constant.\n",
    "\n",
    "For clarity, only the core simulation logic is presented here, but all configuration parameters (e.g., grid size, attractor placement, and speed ratios) are easily customizable within the accompanying code.\n",
    "\n",
    "These experiments confirm the mechanisms observed in real cities and demonstrate how the placement and tuning of mobility attractors affect DiverCity both locally and globally. The outputs correspond to the results shown in *Figure 5* of the paper.\n",
    "\n",
    "---\n",
    "\n",
    "## **Parameters**\n",
    "\n",
    "The table below summarizes the key parameters that can be adjusted to reproduce or extend the simulations.\n",
    "\n",
    "| Parameter                  | Description                                                                         |\n",
    "| -------------------------- | ----------------------------------------------------------------------------------- |\n",
    "| `k`                        | Maximum number of alternative paths considered in DiverCity computation.            |\n",
    "| `list_p`                   | Penalization parameters applied during path generation (simulate route conformity). |\n",
    "| `list_eps`                 | Tolerance parameters used to define Near-Shortest Routes (NSR).                     |\n",
    "| `r_list`                   | Radii (in km) from the city center used to sample origin–destination pairs.         |\n",
    "| `n_samples`                | Number of origin–destination samples per radius.                                    |\n",
    "| `center`                   | Coordinates (x, y) for the network center (default is (0, 0)).                      |\n",
    "| `n_rows`                   | Number of rows in the grid network.                                                 |\n",
    "| `n_cols`                   | Number of columns in the grid network.                                              |\n",
    "| `cell_size_km`             | Physical size (km) of each grid cell.                                               |\n",
    "| `edge_speed_kmh`           | Default speed (km/h) on regular edges.                                              |\n",
    "| `edge_attractor_speed_kmh` | Speed (km/h) on attractor edges (e.g., main roads, bridges).                        |\n",
    "| `km_sq_attractors`         | Radii (km) defining square-shaped attractor zones centered on the city.             |\n",
    "| `rows_attractors`          | Row indices or distances (in km) where horizontal corridors act as attractors.      |\n",
    "| `cols_attractors`          | Column indices or distances (in km) where vertical corridors act as attractors.     |\n",
    "| `water_columns`            | Column indices representing impassable water bodies (e.g., rivers).                 |\n",
    "| `bridges_at_rows`          | Row indices where bridge crossings are allowed across water columns.                |\n",
    "| `max_it`                   | Maximum number of iterations for the Path Penalization algorithm.                   |\n"
   ]
  },
  {
   "cell_type": "code",
   "execution_count": null,
   "id": "83d60391-b55c-49d5-8ddc-c8d126566e05",
   "metadata": {},
   "outputs": [],
   "source": [
    "import matplotlib.pyplot as plt\n",
    "from simplified_model import launch_simplified_model, plot_grid_map\n",
    "import numpy as np\n",
    "from my_utils import set_mystyle\n",
    "\n",
    "from results_utils import get_divercity_vs_radius_at_k"
   ]
  },
  {
   "cell_type": "markdown",
   "id": "445a8ed9-601e-40b4-96b1-bffa5b043fec",
   "metadata": {},
   "source": [
    "## **1. Simulation Parameters**\n",
    "\n",
    "The parameters below define the configuration of the simplified grid-based simulation.  \n",
    "They control the structure of the artificial network, the properties of mobility attractors,  \n",
    "and the parameters used for computing DiverCity."
   ]
  },
  {
   "cell_type": "code",
   "execution_count": null,
   "id": "5aa746e0-58de-464d-a572-86bf0b58f849",
   "metadata": {},
   "outputs": [],
   "source": [
    "# ------------------------------------------------------------\n",
    "# DiverCity Computation Parameters\n",
    "# ------------------------------------------------------------\n",
    "\n",
    "k = 10                        # Number of alternative routes (near-shortest paths)\n",
    "list_p = [0.1]                # Path penalization factors for the Path Penalization (PP) algorithm\n",
    "list_eps = [0.3]              # Epsilon tolerance for near-shortest routes (±30% of the fastest route)\n",
    "r_list = np.arange(1, 31, 1)  # Radial distances from the grid center (1–30 km)\n",
    "n_samples = 5                 # Number of origin–destination pairs per radial distance\n",
    "\n",
    "# ------------------------------------------------------------\n",
    "# Grid Network Configuration\n",
    "# ------------------------------------------------------------\n",
    "\n",
    "n_rows = 120                  # Number of rows in the lattice grid\n",
    "n_cols = 120                  # Number of columns in the lattice grid\n",
    "cell_size_km = 0.5            # Cell size (edge length) in kilometers\n",
    "\n",
    "# Default speed limits (baseline scenario)\n",
    "edge_speed_kmh = 50           # Speed limit for regular roads (km/h)\n",
    "edge_attractor_speed_kmh = 100 # Speed limit for attractor edges (km/h)"
   ]
  },
  {
   "cell_type": "markdown",
   "id": "ce34763b-e1a4-4a53-89c2-c2213fd53689",
   "metadata": {},
   "source": [
    "## **2. Experiments**\n",
    "\n",
    "The following experiments demonstrate how the simplified model can be used to study  \n",
    "the impact of **mobility attractors** on potential route diversification in a controlled environment.  \n",
    "\n",
    "Each example represents a different attractor configuration:\n",
    "- **No attractors** → Baseline grid with uniform speed limits.  \n",
    "- **1 attractor** at 10 km → Simulates a single high-speed corridor (e.g., a ring road).  \n",
    "- **2 attractors** at 10 km and 11 km → Tests the stabilizing effect of clustered attractors.  \n",
    "\n",
    "These examples are provided as reference experiments to **illustrate how the model works**.  \n",
    "Users can easily customize parameters (e.g., attractor positions, speeds, grid size, or sampling)  \n",
    "to explore additional scenarios and sensitivity analyses.\n",
    "\n",
    "⚠️ Note: This step may take some time to complete, depending on the network size, the number of origin–destination pairs, and the number of parallel jobs (`njobs`)."
   ]
  },
  {
   "cell_type": "code",
   "execution_count": null,
   "id": "450f1de8-f948-489a-891a-1d029789a5d4",
   "metadata": {},
   "outputs": [],
   "source": [
    "# ------------------------------------------------------------\n",
    "# Run example experiments with different attractor configurations\n",
    "# ------------------------------------------------------------\n",
    "\n",
    "dict_result_attractors = {}\n",
    "\n",
    "for attractors in [[], [10], [10, 11]]:\n",
    "    print(f\"\\nRunning simulation with attractors at: {attractors if attractors else 'none'}\")\n",
    "\n",
    "    G, df_result, penalized_paths_dict = launch_simplified_model(\n",
    "        k,\n",
    "        list_p,\n",
    "        list_eps,\n",
    "        r_list,\n",
    "        n_samples=4,  # number of OD pairs per radius\n",
    "        n_rows=n_rows,\n",
    "        n_cols=n_cols,\n",
    "        cell_size_km=cell_size_km,\n",
    "        edge_speed_kmh=edge_speed_kmh,\n",
    "        edge_attractor_speed_kmh=edge_attractor_speed_kmh,\n",
    "        km_sq_attractors=attractors,\n",
    "        max_it=200,\n",
    "        njobs=10\n",
    "    )\n",
    "\n",
    "    # Store results for comparison\n",
    "    dict_result_attractors[tuple(attractors)] = df_result"
   ]
  },
  {
   "cell_type": "markdown",
   "id": "25c60428-efa4-478d-970e-17c009866bb3",
   "metadata": {},
   "source": [
    "#### Example: plotting the grid"
   ]
  },
  {
   "cell_type": "code",
   "execution_count": null,
   "id": "3c91b12d-854e-49c0-957b-1eaf7ecfc985",
   "metadata": {},
   "outputs": [],
   "source": [
    "plot_grid_map(G, linewidth_attr=2)"
   ]
  },
  {
   "cell_type": "markdown",
   "id": "5ba551e9-2678-469d-9667-98c8a1f2c069",
   "metadata": {},
   "source": [
    "## **3. Plot DiverCity vs. Radius**\n",
    "\n",
    "This plot illustrates how **DiverCity** varies with distance from the city center under different attractor configurations.  \n",
    "For each scenario (no attractors, one attractor, two attractors), the DiverCity profile is computed as the median  \n",
    "across sampled origin–destination pairs at each radial distance.\n",
    "\n",
    "The resulting curves replicate the trends observed in the paper (*Figure 5*), showing:\n",
    "- A rapid increase in DiverCity near the center, followed by stabilization at larger distances.  \n",
    "- A localized drop in DiverCity in the vicinity of mobility attractors.  \n",
    "- A global stabilization effect when multiple attractors are clustered.\n",
    "\n",
    "This analysis highlights how attractor configuration influences both local and city-wide route diversification.\n"
   ]
  },
  {
   "cell_type": "code",
   "execution_count": null,
   "id": "91f86759-fa1e-4a47-8210-e7735454253f",
   "metadata": {},
   "outputs": [],
   "source": [
    "fig, ax = plt.subplots(1, 1, figsize=(4, 4))\n",
    "\n",
    "for attractors in dict_result_attractors:\n",
    "    y_vector = get_divercity_vs_radius_at_k(dict_result_attractors[attractors], k, p=0.1, eps=0.3)\n",
    "    ax.plot(np.arange(1, len(y_vector) + 1, 1),y_vector, alpha=1, linewidth=1.5, label=attractors)\n",
    "\n",
    "plt.legend(title=\"Attractors (km)\")\n",
    "ax.set_ylabel(r\"${\\mathcal{D}(u, v)}$\", fontsize=10, fontweight=400)\n",
    "ax.set_xlabel(\"radius [km]\", fontsize=10, fontweight=400)\n",
    "set_mystyle(ax)"
   ]
  },
  {
   "cell_type": "markdown",
   "id": "364c4edc-5c24-428c-8bad-67e682f04cb5",
   "metadata": {},
   "source": [
    "## **4. Example: Grid with a Bridge**\n",
    "\n",
    "This experiment introduces a **bridge-like bottleneck** into the simplified grid model.  \n",
    "It is an **illustrative example** designed to simulate the effect of a natural or infrastructural constraint (e.g., a river or bay) that divides the city into two disconnected regions,  \n",
    "connected only by one or more bridges.\n",
    "\n",
    "The parameter `water_columns` specifies the columns representing the impassable area (the “river”),  \n",
    "while `bridges_at_rows` defines where bridges are placed to reconnect the two sides.\n",
    "\n",
    "This setup allows testing how such bottlenecks influence DiverCity and travel times,  \n",
    "particularly under speed reduction experiments, replicating the patterns observed in real bridge-dominated cities (e.g., *San Francisco* or *Rio de Janeiro*).\n",
    "\n",
    "⚠️ Note: This step may take some time to complete, depending on the network size, the number of origin–destination pairs, and the number of parallel jobs (`njobs`)."
   ]
  },
  {
   "cell_type": "code",
   "execution_count": null,
   "id": "ace939d8-4b18-4718-aa8f-1a7900483d3f",
   "metadata": {},
   "outputs": [],
   "source": [
    "# ------------------------------------------------------------\n",
    "# Run illustrative example: grid with a bridge-like bottleneck\n",
    "# ------------------------------------------------------------\n",
    "\n",
    "# Define the \"river\" region and bridge positions\n",
    "water_columns = list(np.arange(-5, 5.5, 0.5))  # Columns representing the water gap\n",
    "bridges_at_rows = [0]                          # Rows where bridges connect the two sides\n",
    "\n",
    "# Launch the simplified model with bridge configuration\n",
    "G, df_result, penalized_paths_dict = launch_simplified_model(\n",
    "    k,\n",
    "    list_p,\n",
    "    list_eps,\n",
    "    r_list,\n",
    "    n_samples=4,\n",
    "    n_rows=n_rows,\n",
    "    n_cols=n_cols,\n",
    "    cell_size_km=cell_size_km,\n",
    "    edge_speed_kmh=edge_speed_kmh,\n",
    "    edge_attractor_speed_kmh=edge_attractor_speed_kmh,\n",
    "    water_columns=water_columns,\n",
    "    bridges_at_rows=bridges_at_rows,\n",
    "    km_sq_attractors=[],\n",
    "    max_it=200,\n",
    "    njobs=10\n",
    ")"
   ]
  },
  {
   "cell_type": "code",
   "execution_count": null,
   "id": "15cb9809-099d-44e3-acca-5454878454dc",
   "metadata": {},
   "outputs": [],
   "source": [
    "# visualize the grid\n",
    "plot_grid_map(G, linewidth_attr=2)"
   ]
  }
 ],
 "metadata": {
  "kernelspec": {
   "display_name": "Python 3 (ipykernel)",
   "language": "python",
   "name": "python3"
  },
  "language_info": {
   "codemirror_mode": {
    "name": "ipython",
    "version": 3
   },
   "file_extension": ".py",
   "mimetype": "text/x-python",
   "name": "python",
   "nbconvert_exporter": "python",
   "pygments_lexer": "ipython3",
   "version": "3.9.18"
  }
 },
 "nbformat": 4,
 "nbformat_minor": 5
}
