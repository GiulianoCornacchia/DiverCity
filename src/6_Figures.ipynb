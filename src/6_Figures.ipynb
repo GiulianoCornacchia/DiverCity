{
 "cells": [
  {
   "cell_type": "markdown",
   "id": "38b18a85-fa37-4d9d-bb6e-2216be812e61",
   "metadata": {},
   "source": [
    "# **Notebook 6 - Figures and Global Analyses**\n",
    "\n",
    "---\n",
    "\n",
    "## **Overview**\n",
    "\n",
    "This notebook produces the **main figures and summary analyses** of the DiverCity study.\n",
    "It combines the outputs of previous notebooks (including DiverCity computations, attractor metrics, and travel-time analyses) to generate the paper’s key visualizations and empirical findings.\n",
    "\n",
    "The figures include:\n",
    "\n",
    "* **Figure 1c–e**: Global DiverCity distribution and DiverCity vs. radius.\n",
    "* **Figure 2c–d**: Relationship between DiverCity and mobility attractor features.\n",
    "* **Figure 3a–b** and **Figure 3c**: DiverCity and travel-time responses to speed limit reductions.\n",
    "\n",
    "These plots serve as a comprehensive summary of how road network structure and speed-limit interventions\n",
    "shape potential route diversification in cities worldwide.\n",
    "\n",
    "---\n",
    "\n",
    "## **Related Figures and Notebooks**\n",
    "\n",
    "For completeness, the remaining figures in the paper can be reproduced or derived from other notebooks:\n",
    "\n",
    "| Figure          | Description                                                                                                                                | Notebook                                         |\n",
    "| --------------- | ------------------------------------------------------------------------------------------------------------------------------------------ | ------------------------------------------------ |\n",
    "| **Figure 1a–b** | Examples of low and high DiverCity trips with overlapping and distinct near-shortest routes.                                               | **Notebook 5a – Visualize Near-Shortest Routes** |\n",
    "| **Figure 1e**   | Relationship between DiverCity and congestion (based on TomTom travel-time data). *Cannot be shared due to proprietary data restrictions.* | —                                                |\n",
    "| **Figure 2a–b** | City-level DiverCity maps and spatial distribution of mobility attractors.                                                                 | **Notebook 5b – Maps of DiverCity**              |\n",
    "| **Figure 4**    | Effect of speed limit reductions on route distribution in a specific city (e.g., Rome).                                                    | **Notebook 5a – Visualize Near-Shortest Routes** |\n",
    "| **Figure 5**    | Controlled simulations showing DiverCity behavior in simplified grid networks.                                                             | **Notebook 4 – Simplified Model**                |\n",
    "\n",
    "---"
   ]
  },
  {
   "cell_type": "code",
   "execution_count": null,
   "id": "753e201f-70e7-408c-bbc3-b4ec9a3081bd",
   "metadata": {},
   "outputs": [],
   "source": [
    "import warnings\n",
    "warnings.filterwarnings(\"ignore\")\n",
    "\n",
    "import os\n",
    "from matplotlib import pyplot as plt\n",
    "from my_utils import create_folder_if_not_exists\n",
    "\n",
    "from results_utils import (process_city,\n",
    "    load_speed_scenarios, load_travel_times, load_network_measures,\n",
    "    compute_divercity_gain, compute_travel_time_difference, load_attractor_dispersion,\n",
    "    compute_city_median_divercity, compute_node_divercity_table, load_distance_node_attractors\n",
    ")\n",
    "\n",
    "from figures import (\n",
    "    create_fig1c, create_fig1d,\n",
    "    create_fig2c, create_fig2d,\n",
    "    create_fig3a, create_fig3b, create_fig3c\n",
    ")"
   ]
  },
  {
   "cell_type": "markdown",
   "id": "f67099f4-0089-4637-b6d1-d8fc0bbb5157",
   "metadata": {},
   "source": [
    "## **1. Parameters**"
   ]
  },
  {
   "cell_type": "code",
   "execution_count": null,
   "id": "86d637a6-3fa9-41fd-bf98-02a73388edae",
   "metadata": {},
   "outputs": [],
   "source": [
    "# ------------------------------------------------------------\n",
    "# Parameters and Global Settings\n",
    "# ------------------------------------------------------------\n",
    "\n",
    "# List of cities included in the analysis\n",
    "list_cities = [\"milan\"] \n",
    "\n",
    "# Experiment identifiers\n",
    "exp_id = \"exp_osm\"\n",
    "\n",
    "# DiverCity computation parameters\n",
    "k = 5\n",
    "p = 0.1\n",
    "eps = 0.3\n",
    "\n",
    "# Output directory for generated figures\n",
    "figures_dir = \"./Figures/\"\n",
    "create_folder_if_not_exists(figures_dir)\n",
    "\n",
    "print(f\"Figures will be saved in: {figures_dir}\")"
   ]
  },
  {
   "cell_type": "markdown",
   "id": "88e4cd3e-8456-4d0a-8f47-8615f7df19bc",
   "metadata": {},
   "source": [
    "## **2. Load DiverCity Results**\n",
    "\n",
    "This section loads the DiverCity results for all cities analyzed in the experiment.  \n"
   ]
  },
  {
   "cell_type": "code",
   "execution_count": null,
   "id": "928dbef9-b529-45dc-97c7-7613d1348d39",
   "metadata": {},
   "outputs": [],
   "source": [
    "dict_df_results = {}\n",
    "\n",
    "for city in list_cities:\n",
    "    city, df = process_city(city, f\"../data/results/{city}_{exp_id}/\", max_k=k)\n",
    "    dict_df_results[city] = df"
   ]
  },
  {
   "cell_type": "markdown",
   "id": "01f5f878-5ba9-4264-be23-ad1da7922048",
   "metadata": {},
   "source": [
    "## **3. Figure 1 - Global DiverCity Patterns**\n",
    "\n",
    "This section reproduces the main global patterns of DiverCity reported in the study.  \n",
    "It includes two panels:\n",
    "\n",
    "- **Figure 1c - DiverCity Distribution Across Cities:**  \n",
    "  Shows the distribution of median DiverCity values across all analyzed cities.  \n",
    "\n",
    "- **Figure 1d - DiverCity vs. Radius:**  \n",
    "  Displays the average DiverCity as a function of distance from the city center, aggregated across all cities.  \n"
   ]
  },
  {
   "cell_type": "markdown",
   "id": "00c4543b-e930-4325-830b-da0904a92fcc",
   "metadata": {},
   "source": [
    "**Figure 1c - DiverCity distribution across cities**"
   ]
  },
  {
   "cell_type": "code",
   "execution_count": null,
   "id": "3e87b0f6-b270-4fb8-b23d-09c5cde87f2d",
   "metadata": {},
   "outputs": [],
   "source": [
    "fig, ax = create_fig1c(dict_df_results, list_cities, k=5, p=0.1, eps=0.3, cities_to_annotate=[\"rome\", \"milan\"])\n",
    "\n",
    "plt.tight_layout()\n",
    "plt.savefig(f\"{figures_dir}/Fig1c_DiverCity_Distribution.pdf\", bbox_inches=\"tight\")"
   ]
  },
  {
   "cell_type": "markdown",
   "id": "fa8a2e16-753a-472f-9a6b-464cde26cb55",
   "metadata": {},
   "source": [
    "**Figure 1d - DiverCity vs. Radius**  "
   ]
  },
  {
   "cell_type": "code",
   "execution_count": null,
   "id": "32746ead-9d31-4774-ab86-cc503466d6f0",
   "metadata": {},
   "outputs": [],
   "source": [
    "fig, ax = create_fig1d(dict_df_results, list_cities, k, p, eps)\n",
    "\n",
    "plt.tight_layout()\n",
    "plt.savefig(f\"{figures_dir}/Fig1d_DiverCity_vs_Radius.pdf\", bbox_inches=\"tight\")"
   ]
  },
  {
   "cell_type": "markdown",
   "id": "c1209650-1a7a-4186-bd86-2b48f33db2d8",
   "metadata": {},
   "source": [
    "## **4. Figure 2 - Mobility Attractors and Spatial DiverCity Patterns**\n",
    "\n",
    "This section analyzes how **mobility attractors** (e.g., highways, trunks, and ring roads)  \n",
    "affect route diversification at both the node and city levels.  \n",
    "\n",
    "It reproduces the results shown in *Figure 2* of the paper, composed of two main panels:\n",
    "\n",
    "- **Figure 2c - Node-Level DiverCity vs. Distance to Attractors:**  \n",
    "  Shows how DiverCity varies with the distance from mobility attractors across all cities.  \n",
    "\n",
    "- **Figure 2d - City-Level DiverCity vs. Attractor Characteristics:**  \n",
    "  Relates each city’s median DiverCity to the density and spatial dispersion of its attractors.  "
   ]
  },
  {
   "cell_type": "code",
   "execution_count": null,
   "id": "41f1c8bf-ec16-4da5-a721-0101f0eafddd",
   "metadata": {},
   "outputs": [],
   "source": [
    "# ------------------------------------------------------------\n",
    "# Compute city- and node-level metrics for attractor analysis\n",
    "# ------------------------------------------------------------\n",
    "\n",
    "# Compute per-city DiverCity medians and interquartile ranges\n",
    "city_to_median_dc, city_to_iqr_dc = compute_city_median_divercity(\n",
    "    dict_df_results,\n",
    "    list_cities,\n",
    "    k=k,\n",
    "    p=p,\n",
    "    eps=eps\n",
    ")\n",
    "\n",
    "# Load network- and attractor-related measures\n",
    "city_to_attr_length = load_network_measures(list_cities)\n",
    "city_to_attr_density, city_to_attr_H = load_attractor_dispersion(\n",
    "    list_cities,\n",
    "    city_to_attr_length=city_to_attr_length\n",
    ")\n",
    "\n",
    "# Load node-level distances to attractors\n",
    "dict_distance_node_attractors = load_distance_node_attractors(list_cities)\n",
    "\n",
    "# Build combined node-level DiverCity vs. distance table\n",
    "df_node_dcity, list_percentiles = compute_node_divercity_table(\n",
    "    list_cities,\n",
    "    dict_df_results,\n",
    "    dict_distance_node_attractors,\n",
    "    p,\n",
    "    eps,\n",
    "    k\n",
    ")"
   ]
  },
  {
   "cell_type": "markdown",
   "id": "3bf32a3b-717d-4cbe-9994-6ac70c06f22d",
   "metadata": {},
   "source": [
    "**Figure 2c - Node-Level DiverCity vs. Distance to Attractors**"
   ]
  },
  {
   "cell_type": "code",
   "execution_count": null,
   "id": "23a3257b-3228-4a22-8142-087059474ddf",
   "metadata": {},
   "outputs": [],
   "source": [
    "fig, ax = create_fig2c(df_node_dcity, list_percentiles, k, \n",
    "                       save=True,\n",
    "                       savepath=f\"{figures_dir}/Fig2c_Node_DiverCity_vs_Distance.pdf\")"
   ]
  },
  {
   "cell_type": "markdown",
   "id": "c73b4625-52c4-4d10-b32d-52bf341b593e",
   "metadata": {},
   "source": [
    "**Figure 2d - City-Level DiverCity vs. Attractor Characteristics**"
   ]
  },
  {
   "cell_type": "code",
   "execution_count": null,
   "id": "af92bda4-d15a-43d6-a23c-5932838a2302",
   "metadata": {},
   "outputs": [],
   "source": [
    "fig, ax = create_fig2d(city_to_attr_density, city_to_median_dc, city_to_attr_H, list_cities,\n",
    "                       save=True,\n",
    "                       savepath=f\"{figures_dir}/Fig2d_City_DiverCity_vs_AttractorMetrics.pdf\")"
   ]
  },
  {
   "cell_type": "markdown",
   "id": "9b3c0baa-8378-42eb-8f36-b4e611454f62",
   "metadata": {},
   "source": [
    "## **5. Figure 3 - Effects of Speed-Limit Tuning**\n",
    "\n",
    "This section examines how **speed-limit reductions on mobility attractors** influence DiverCity and travel times.  \n",
    "It reproduces *Figure 3* of the paper, consisting of two main panels:\n",
    "\n",
    "- **Figure 3a - DiverCity Response to Speed Reductions:**  \n",
    "  Shows how city-level DiverCity varies as the speed limits of attractors are progressively reduced.  \n",
    "\n",
    "\n",
    "- **Figure 3b - Travel-Time Response to Speed Reductions:**  \n",
    "  Quantifies the trade-off between increased route diversification and longer travel times.  \n",
    "\n",
    "- **Figure 3c - City-Specific DiverCity Profile:**  \n",
    "  DiverCity as a function of radial distance from the city center under different attractor speed scenarios."
   ]
  },
  {
   "cell_type": "code",
   "execution_count": null,
   "id": "a7443a7b-01c0-4212-92de-4fbf31607cba",
   "metadata": {},
   "outputs": [],
   "source": [
    "# Speed reduction scenarios (expressed as percentages of the original speed)\n",
    "list_speeds = [10, 20, 30, 40, 50, 90]\n",
    "\n",
    "# Experiment identifier\n",
    "exp_id = \"exp_osm\"\n",
    "\n",
    "# ------------------------------------------------------------\n",
    "# Load data\n",
    "# ------------------------------------------------------------\n",
    "\n",
    "dict_df_speed = load_speed_scenarios(list_cities, list_speeds, exp_id, k)\n",
    "dict_travel_times = load_travel_times(list_cities, p)\n",
    "\n",
    "# Compute effects\n",
    "dict_gains_DiverCity_speed = compute_divercity_gain(\n",
    "    dict_df_results, dict_df_speed, list_cities, list_speeds, k, p, eps\n",
    ")\n",
    "dict_tt_difference = compute_travel_time_difference(\n",
    "    dict_travel_times, list_cities, list_speeds\n",
    ")"
   ]
  },
  {
   "cell_type": "markdown",
   "id": "b2bed7d5-cfa7-42bc-8417-5fe15b464062",
   "metadata": {},
   "source": [
    "**Figure 3a - DiverCity Response to Speed Reductions**"
   ]
  },
  {
   "cell_type": "code",
   "execution_count": null,
   "id": "a0d2f86d-948c-47fd-8e53-51f682f75411",
   "metadata": {},
   "outputs": [],
   "source": [
    "fig, ax = create_fig3a(dict_gains_DiverCity_speed, list_speeds, show_cities=[\"rome\"],\n",
    "                       save=True,\n",
    "                       savepath=f\"{figures_dir}/Fig3a_DiverCity_vs_SpeedReduction.pdf\")"
   ]
  },
  {
   "cell_type": "markdown",
   "id": "93efab9c-c3e1-47b1-81ee-a8f9fc685664",
   "metadata": {},
   "source": [
    "**Figure 3b - Travel-Time Response to Speed Reductions**"
   ]
  },
  {
   "cell_type": "code",
   "execution_count": null,
   "id": "33d9b5e7-e5b2-400c-b38f-14bf77dd2849",
   "metadata": {},
   "outputs": [],
   "source": [
    "fix, ax = create_fig3b(dict_tt_difference, list_speeds, show_cities=[\"milan\"],\n",
    "                       save=True,\n",
    "                       savepath=f\"{figures_dir}/Fig3b_TravelTime_vs_SpeedReduction.pdf\")"
   ]
  },
  {
   "cell_type": "markdown",
   "id": "67183d73-f56a-4f09-a9da-aae501dbcd74",
   "metadata": {},
   "source": [
    "**Figure 3c - City-Specific DiverCity Profile**"
   ]
  },
  {
   "cell_type": "code",
   "execution_count": null,
   "id": "08c30651-7427-4a18-9286-af0d92b37ea0",
   "metadata": {},
   "outputs": [],
   "source": [
    "city = \"milan\"\n",
    "\n",
    "fix, ax = create_fig3c(city, dict_df_results, dict_df_speed, list_speeds, \n",
    "                       k, p, eps, save=True, savepath=f\"{figures_dir}/Fig3c_{city}_speed_profiles.png\")"
   ]
  }
 ],
 "metadata": {
  "kernelspec": {
   "display_name": "Python 3 (ipykernel)",
   "language": "python",
   "name": "python3"
  },
  "language_info": {
   "codemirror_mode": {
    "name": "ipython",
    "version": 3
   },
   "file_extension": ".py",
   "mimetype": "text/x-python",
   "name": "python",
   "nbconvert_exporter": "python",
   "pygments_lexer": "ipython3",
   "version": "3.9.18"
  }
 },
 "nbformat": 4,
 "nbformat_minor": 5
}
