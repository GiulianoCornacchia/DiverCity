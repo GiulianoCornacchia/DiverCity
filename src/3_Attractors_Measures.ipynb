{
 "cells": [
  {
   "cell_type": "markdown",
   "id": "1b0502fb-ce9c-4583-b876-66be9bd60221",
   "metadata": {},
   "source": [
    "# **Notebook 3 - Compute Mobility Attractor Measures**\n",
    "\n",
    "---\n",
    "\n",
    "## **Overview**\n",
    "This notebook computes **mobility attractor–related measures** that are essential for interpreting and contextualizing the DiverCity results.  \n",
    "Mobility attractors, such as highways, trunks, and ring roads, are key infrastructures that influence route choice and spatial patterns of route diversification.\n",
    "\n",
    "---\n",
    "## **Mobility Attractors**\n",
    "Mobility attractors are high-capacity road infrastructures that channel large traffic volumes and provide faster connections across the city, such as highways, ring roads, and major arterial routes.\n",
    "In this study, attractors are identified as edges classified as `motorway` or `trunk` in the OpenStreetMap road network.\n",
    " \n",
    "1. **Attractor Density** - Measure the total attractor length per unit area (km/km²).  \n",
    "2. **Assess Spatial Dispersion (H)** - Quantify how evenly attractors are distributed using the mean distance of random points to the nearest attractor.  \n",
    "---\n",
    "\n",
    "Results are saved in the output directory for integration into other notebooks."
   ]
  },
  {
   "cell_type": "code",
   "execution_count": null,
   "id": "2a41dd83-a0a2-4068-b84e-b4c30a000483",
   "metadata": {},
   "outputs": [],
   "source": [
    "import pandas as pd\n",
    "from network_measures import compute_attractor_spatial_dispersion, compute_distance_node_to_attractors_city"
   ]
  },
  {
   "cell_type": "code",
   "execution_count": null,
   "id": "e5b40943-051e-4f45-816e-891d050e67d3",
   "metadata": {},
   "outputs": [],
   "source": [
    "# ------------------------------------------------------------\n",
    "# City Selection and Configuration\n",
    "# ------------------------------------------------------------\n",
    "\n",
    "# Identifier for the network (used for loading and organizing files)\n",
    "city_name = \"milan\"\n",
    "\n",
    "# Radius (in meters) used to define the extent of the analysis\n",
    "radius_m = 10_000  # MUST match the network extraction radius\n",
    "\n",
    "# Option 1 — Recommended: Load city coordinates from the reference CSV\n",
    "# The file '../data/city_info.csv' must contain at least the columns: [\"city\", \"lat\", \"lng\"]\n",
    "df_cities = pd.read_csv(\"../data/city_info.csv\")\n",
    "city_center = df_cities[df_cities[\"city\"] == city_name][[\"lat\", \"lng\"]].values[0]\n",
    "\n",
    "# Option 2 — Manual specification (uncomment to use)\n",
    "# city_center = (45.4642, 9.19)  # Example: Milan city center"
   ]
  },
  {
   "cell_type": "markdown",
   "id": "bd392531-486c-47f9-8dc2-f44a3ae31068",
   "metadata": {},
   "source": [
    "## **1. Attractor-Related Features**\n",
    "\n",
    "This section computes indicators describing the spatial structure and influence of **mobility attractors** (highways, trunks, and major roads).  "
   ]
  },
  {
   "cell_type": "markdown",
   "id": "f71c00be-0255-4f61-86bc-ce3e3c3a07e7",
   "metadata": {},
   "source": [
    "1.1 **Attractor Spatial Dispersion (H):**  \n",
    "   Measures how evenly mobility attractors are distributed across the urban area.  \n",
    "   It is computed as the average distance between randomly sampled points and their nearest attractor, providing a compact descriptor of network accessibility.  "
   ]
  },
  {
   "cell_type": "code",
   "execution_count": null,
   "id": "8206a9dd-6fb0-4c52-9568-c9962b6bc1e5",
   "metadata": {},
   "outputs": [],
   "source": [
    "# Parameters for random point sampling and distance computation\n",
    "list_n_samples = [10 * 1000, 20 * 1000]  # Number of random samples (10k, 20k)\n",
    "list_dist_kdtree = [500, 1000]           # Distance thresholds for spatial dispersion (in meters)\n",
    "\n",
    "# Compute spatial dispersion of mobility attractors\n",
    "dict_H = compute_attractor_spatial_dispersion(\n",
    "    city_name,\n",
    "    city_center,\n",
    "    radius_m,\n",
    "    list_n_samples,\n",
    "    list_dist_kdtree,\n",
    "    save=True,\n",
    "    saveFig=False\n",
    ")"
   ]
  },
  {
   "cell_type": "markdown",
   "id": "9b7944e4-6aa8-4e64-afb7-08f3ba1fb38c",
   "metadata": {},
   "source": [
    "1.2 **Distance from Sampled Nodes to Attractors:**  \n",
    "For each sampled node, this measure computes the distance to its nearest mobility attractor.  \n",
    "It helps identify **low-DiverCity zones**, which are typically concentrated around high-speed corridors such as highways and ring roads."
   ]
  },
  {
   "cell_type": "code",
   "execution_count": null,
   "id": "8d18c4f7-1dde-4ef4-99b0-35b5ceecd6d8",
   "metadata": {},
   "outputs": [],
   "source": [
    "compute_distance_node_to_attractors_city(city_name, city_center, radius_m, f\"exp_osm\")"
   ]
  }
 ],
 "metadata": {
  "kernelspec": {
   "display_name": "Python 3 (ipykernel)",
   "language": "python",
   "name": "python3"
  },
  "language_info": {
   "codemirror_mode": {
    "name": "ipython",
    "version": 3
   },
   "file_extension": ".py",
   "mimetype": "text/x-python",
   "name": "python",
   "nbconvert_exporter": "python",
   "pygments_lexer": "ipython3",
   "version": "3.9.18"
  }
 },
 "nbformat": 4,
 "nbformat_minor": 5
}
