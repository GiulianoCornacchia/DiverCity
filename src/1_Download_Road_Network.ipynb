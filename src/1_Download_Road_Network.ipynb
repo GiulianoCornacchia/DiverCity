{
 "cells": [
  {
   "cell_type": "markdown",
   "id": "38705b99-0863-4c99-b2bb-e7889fdcc068",
   "metadata": {},
   "source": [
    "# **Notebook 1 - Road Networks Extraction using OSMnx**\n",
    "\n",
    "---\n",
    "\n",
    "This notebook handles the download, preparation, and storage of road networks from **OpenStreetMap (OSM)** using the **OSMnx** Python package. It represents the first step of the DiverCity workflow.\n",
    "Starting from the geographic center of each city, the script retrieves a drivable road network within a fixed radius, applies standard simplifications, and saves the resulting graph for further processing.\n",
    "\n",
    "---\n",
    "\n",
    "### **Parameters Used in This Study:**  \n",
    "- **Location:** Defined by geographic coordinates of the city center, sourced from [latlong.net](https://www.latlong.net/).  \n",
    "- **Radius:** **30 km (30,000 meters)**, ensuring comprehensive coverage of the urban area. TIP: consider adding a 1-2km buffer to minimize border effects.\n",
    "- **Network Type:** `drive`, focusing on car navigable roads.  \n",
    "- **Simplification:** `True`, simplifying the graph by removing intermediate nodes while preserving connectivity. This reduces computational complexity for subsequent analysis.  \n",
    "\n",
    "---\n"
   ]
  },
  {
   "cell_type": "code",
   "execution_count": null,
   "id": "9dd9af1b-1bf3-496b-8cfb-01dd415c964e",
   "metadata": {},
   "outputs": [],
   "source": [
    "import os\n",
    "import osmnx as ox\n",
    "import gzip\n",
    "import pandas as pd\n",
    "\n",
    "from my_utils import create_folder_if_not_exists\n",
    "from network_measures import compute_network_measures"
   ]
  },
  {
   "cell_type": "markdown",
   "id": "f5ef5eea-67b2-4b0e-ad9b-58e90327142c",
   "metadata": {},
   "source": [
    "## **1. Parameters**\n",
    "\n",
    "The parameters below define the configuration for downloading and storing a city’s road network.\n",
    "Modify them to extract networks from different locations or to test alternative configurations. <br>\n",
    "TIP: Consider storing city coordinates in `../data/city_info.csv` instead of hard-coding values here.\n"
   ]
  },
  {
   "cell_type": "code",
   "execution_count": null,
   "id": "6f972dc0-a785-4437-a792-93ecf33b90fe",
   "metadata": {},
   "outputs": [],
   "source": [
    "# Identifier for the network (used for naming output files)\n",
    "city_id = \"milan\"\n",
    "\n",
    "# Option 1 - Recommended: Load coordinates from a CSV file (../data/city_info.csv)\n",
    "# The CSV should contain at least: \"city\", \"lat\", \"lng\"\n",
    "df_cities = pd.read_csv(\"../data/city_info.csv\")\n",
    "city_center = df_cities[df_cities[\"city\"] == city_id][[\"lat\", \"lng\"]].values[0]\n",
    "\n",
    "# Option 2 - Manual specification (uncomment to use)\n",
    "# city_center = (45.4642, 9.19)  # Example: Milan\n",
    "\n",
    "radius_m = 10_000   # Extraction radius in meters around the city center\n",
    "network_type = \"drive\"  # Type of network ('drive', 'walk', 'bike', 'all')\n",
    "simplify = True  # Simplify the network to remove non-intersection nodes\n",
    "\n",
    "# Destination folder and paths for saving the network data\n",
    "dest_folder = \"../data/road_networks\"  # Folder to store network files\n",
    "dest_path_gz = f\"{dest_folder}/{city_id}_{network_type}_{radius_m}.graphml.gz\"\n",
    "dest_path = f\"{dest_folder}/{city_id}_{network_type}_{radius_m}.graphml\"\n",
    "save_as_gzip = True  # Save compressed (.gz) file to reduce storage size\n",
    "\n",
    "# Create the destination folder if it doesn't already exist\n",
    "create_folder_if_not_exists(dest_folder)"
   ]
  },
  {
   "cell_type": "markdown",
   "id": "5cc7940a-859c-4675-86bd-1cd546dcd6e6",
   "metadata": {},
   "source": [
    "## **2. Road Network download & visualization**"
   ]
  },
  {
   "cell_type": "code",
   "execution_count": null,
   "id": "f6d110e8-5619-4719-b1e8-0a181aac9594",
   "metadata": {},
   "outputs": [],
   "source": [
    "# Retrieve a network centered on the selected city within the specified radius\n",
    "G = ox.graph_from_point(city_center, dist=radius_m, network_type=network_type, simplify=simplify)\n",
    "\n",
    "# Impute missing edge speeds and calculate edge travel times\n",
    "G = ox.add_edge_speeds(G)\n",
    "G = ox.add_edge_travel_times(G)\n",
    "\n",
    "# Plot a preview of the network for verification\n",
    "ox.plot_graph(G, node_size=0, show=True, close=True);"
   ]
  },
  {
   "cell_type": "markdown",
   "id": "3fc03890-ead7-4512-8925-48a0be8319d9",
   "metadata": {},
   "source": [
    "## **3. Save the Road Network**"
   ]
  },
  {
   "cell_type": "code",
   "execution_count": null,
   "id": "33613015-c305-466f-a60d-eec63af778eb",
   "metadata": {},
   "outputs": [],
   "source": [
    "# Save as standard GraphML file (uncompressed)\n",
    "ox.save_graphml(G, dest_path)\n",
    "\n",
    "# Optionally compress the saved file to reduce storage space\n",
    "if save_as_gzip:\n",
    "    with open(dest_path, 'rb') as f_in:\n",
    "        with gzip.open(dest_path_gz, 'wb') as f_out:\n",
    "            f_out.writelines(f_in)\n",
    "    \n",
    "    # Remove the uncompressed file after compressing\n",
    "    os.remove(dest_path)"
   ]
  },
  {
   "cell_type": "markdown",
   "id": "a1a6eaf9-a480-4542-89d7-d7bac419e147",
   "metadata": {},
   "source": [
    "## **4. Compute road network measures**\n",
    "\n",
    "This section analyzes the structure and properties of the road network. Specifically, it will:  \n",
    "- Compute **basic network statistics** such as node count, edge count, and density.  \n",
    "- Analyze **edge characteristics** to understand connectivity patterns.  \n",
    "- Extract **attractor-related information**, identifying key edges and their influence.  \n",
    "\n",
    "The computed network measures will be stored in a structured dictionary format, with the following key components:  \n",
    "\n",
    "```python\n",
    "dict_measures = {\n",
    "    \"metadata\": ...,          # General information about the computation (e.g., version, date)\n",
    "    \"basic_stats\": ...,       # Summary statistics of the road network (e.g., number of nodes, edges, density)\n",
    "    \"info_attractors\": {\"edges\": ...},      # Information related to attractor edges in the network\n",
    "    \"info_edges\": ...         # Detailed attributes of individual edges in the network\n",
    "}\n"
   ]
  },
  {
   "cell_type": "code",
   "execution_count": null,
   "id": "a2491eb0-86e5-4baf-8730-4e32a503c353",
   "metadata": {},
   "outputs": [],
   "source": [
    "# Create the output folder\n",
    "folder_info = f\"../data/road_networks_info/{city_id}/\"\n",
    "os.makedirs(folder_info, exist_ok=True)\n",
    "\n",
    "dict_network_measures = compute_network_measures(city_id, city_center, \n",
    "                                                 \"drive\", radius_m, \n",
    "                                                 save=True, saveFig=False, filename=folder_info)"
   ]
  }
 ],
 "metadata": {
  "kernelspec": {
   "display_name": "Python 3 (ipykernel)",
   "language": "python",
   "name": "python3"
  },
  "language_info": {
   "codemirror_mode": {
    "name": "ipython",
    "version": 3
   },
   "file_extension": ".py",
   "mimetype": "text/x-python",
   "name": "python",
   "nbconvert_exporter": "python",
   "pygments_lexer": "ipython3",
   "version": "3.9.18"
  }
 },
 "nbformat": 4,
 "nbformat_minor": 5
}
