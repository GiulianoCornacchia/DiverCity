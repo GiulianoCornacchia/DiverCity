{
 "cells": [
  {
   "cell_type": "markdown",
   "id": "2f4808de-73ba-4c92-a20f-228124dbdcbe",
   "metadata": {},
   "source": [
    "# **Notebook 5b - Maps of DiverCity**\n",
    "\n",
    "---\n",
    "\n",
    "## **Overview**\n",
    "This notebook generates **city-level maps of DiverCity**, showing the spatial distribution of potential route diversification across urban areas.  \n",
    "These maps visually highlight how network structure and mobility attractors influence local variations in DiverCity,  \n",
    "revealing areas with high or low potential for route diversification.\n",
    "\n",
    "The resulting maps can be used for visual analysis, cross-city comparison, and inclusion in reports or online visualizations (e.g., the [DiverCity interactive platform](https://divercitymaps.github.io)).\n",
    "\n",
    "---\n",
    "\n",
    "The notebook produces:\n",
    "- **DiverCity Heatmaps** - Continuous spatial representations of node-level DiverCity values.  \n",
    "- **Overlay Maps** - Visualizations including attractors and boundaries for context.  \n",
    "- **Exported Figures** - Maps for selected cities.\n",
    "\n",
    "These maps correspond to the visualizations used in *Figure 2a–b* of the DiverCity paper and on the [DiverCity interactive platform](https://divercitymaps.github.io)."
   ]
  },
  {
   "cell_type": "code",
   "execution_count": null,
   "id": "5721c283-a734-4816-b595-5f2bc06ec7fd",
   "metadata": {},
   "outputs": [],
   "source": [
    "import pandas as pd\n",
    "import numpy as np\n",
    "import geopandas as gpd\n",
    "import matplotlib.pyplot as plt\n",
    "from scipy.interpolate import griddata\n",
    "from route_plotting import process_single_city, compute_gpd_divercity_nodes, create_geodesic_circle\n",
    "from my_utils import create_folder_if_not_exists"
   ]
  },
  {
   "cell_type": "markdown",
   "id": "c431e363-1378-4465-a896-6f7d5c9492fc",
   "metadata": {},
   "source": [
    "## **1. Parameters**\n",
    "\n",
    "This section defines the parameters used to generate the DiverCity map for a selected city.  \n",
    "Each parameter determines how the data will be loaded and visualized."
   ]
  },
  {
   "cell_type": "code",
   "execution_count": null,
   "id": "11797768-6884-438a-ba81-8b5a79f2d9ed",
   "metadata": {},
   "outputs": [],
   "source": [
    "# ------------------------------------------------------------\n",
    "# Map generation parameters\n",
    "# ------------------------------------------------------------\n",
    "\n",
    "city = \"milan\"          # City to visualize\n",
    "radius_km = 10         # Visualization radius (must match the computed DiverCity data)\n",
    "k = 5                  # Number of near-shortest routes used for DiverCity calculation\n",
    "exp_id = \"exp_osm\"     # Experiment identifier (used for loading results)"
   ]
  },
  {
   "cell_type": "markdown",
   "id": "4d8bc148-b941-4397-9a0c-3663db5c2890",
   "metadata": {},
   "source": [
    "## **2. Generate the DiverCity Map**\n",
    "\n",
    "This section creates a **continuous spatial map of DiverCity** for the selected city.  "
   ]
  },
  {
   "cell_type": "code",
   "execution_count": null,
   "id": "58c9d452-dada-4831-8bf4-cb0571067812",
   "metadata": {},
   "outputs": [],
   "source": [
    "# ------------------------------------------------------------\n",
    "# Load and prepare DiverCity data for visualization\n",
    "# ------------------------------------------------------------\n",
    "\n",
    "df_cities = pd.read_csv(\"../data/city_info.csv\")\n",
    "\n",
    "# Process the selected city and load its DiverCity results\n",
    "_, res_city = process_single_city(city, radius_km * 1000, exp_id, k)\n",
    "\n",
    "# Retrieve city coordinates\n",
    "c_lat, c_lng = df_cities[df_cities[\"city\"] == city][[\"lat\", \"lng\"]].values[0]\n",
    "\n",
    "# Compute GeoDataFrame of nodes with DiverCity values\n",
    "nodes_city = compute_gpd_divercity_nodes(\n",
    "    res_city[\"divercity\"],\n",
    "    res_city[\"road_networks\"][\"dict_sampling\"],\n",
    "    k=k\n",
    ")\n",
    "\n",
    "# Prepare grid for interpolation\n",
    "points = np.array([(geom.x, geom.y) for geom in nodes_city.geometry])\n",
    "values = nodes_city[\"divercity\"].values\n",
    "\n",
    "x_min, x_max = points[:, 0].min(), points[:, 0].max()\n",
    "y_min, y_max = points[:, 1].min(), points[:, 1].max()\n",
    "grid_x, grid_y = np.mgrid[x_min:x_max:100j, y_min:y_max:100j]\n",
    "\n",
    "# Interpolate DiverCity values (linear method)\n",
    "grid_z = griddata(points, values, (grid_x, grid_y), method=\"linear\", fill_value=np.nan)\n",
    "\n",
    "# ------------------------------------------------------------\n",
    "# Create geodesic circles and clip attractors for visualization\n",
    "# ------------------------------------------------------------\n",
    "\n",
    "circle_viz = create_geodesic_circle((c_lat, c_lng), radius_km=radius_km)\n",
    "gpd_circle_viz = gpd.GeoDataFrame(geometry=[circle_viz], crs=\"EPSG:4326\")\n",
    "\n",
    "# Clip attractor edges within visualization boundary\n",
    "attractor_city = res_city[\"road_networks\"][\"attractor_edges\"]\n",
    "clipped_attractors = gpd.overlay(attractor_city, gpd_circle_viz)\n",
    "\n",
    "# ------------------------------------------------------------\n",
    "# Plot DiverCity map\n",
    "# ------------------------------------------------------------\n",
    "\n",
    "fig, ax = plt.subplots(figsize=(4, 4), dpi=200)\n",
    "\n",
    "# Contour plot of interpolated DiverCity values\n",
    "levels = 12\n",
    "contour = ax.contourf(grid_x, grid_y, grid_z, levels=levels, cmap=\"Blues\")\n",
    "\n",
    "# Overlay mobility attractors\n",
    "clipped_attractors.plot(color=\"orange\", linewidth=1, ax=ax, zorder=10)\n",
    "clipped_attractors.plot(color=\"#FFD580\", linewidth=0.5, ax=ax, zorder=10)\n",
    "\n",
    "# Remove axis for a clean map aesthetic\n",
    "ax.axis(\"off\")\n",
    "\n",
    "# Adjust plot boundaries\n",
    "xmin, ymin, xmax, ymax = gpd_circle_viz.total_bounds\n",
    "ax.set_xlim(xmin, xmax)\n",
    "ax.set_ylim(ymin, ymax)\n",
    "\n",
    "# Add colorbar\n",
    "colorbar = fig.colorbar(contour, ax=ax, fraction=0.02, pad=0.05, orientation=\"horizontal\")\n",
    "colorbar.ax.tick_params(labelsize=4)\n",
    "colorbar.set_label(\"DiverCity\", fontsize=8)\n",
    "\n",
    "# ------------------------------------------------------------\n",
    "# Save figure\n",
    "# ------------------------------------------------------------\n",
    "create_folder_if_not_exists(\"./Figures/\")\n",
    "save_path = f\"./Figures/divercity_map_{city}.pdf\"\n",
    "plt.savefig(save_path, bbox_inches=\"tight\")"
   ]
  }
 ],
 "metadata": {
  "kernelspec": {
   "display_name": "Python 3 (ipykernel)",
   "language": "python",
   "name": "python3"
  },
  "language_info": {
   "codemirror_mode": {
    "name": "ipython",
    "version": 3
   },
   "file_extension": ".py",
   "mimetype": "text/x-python",
   "name": "python",
   "nbconvert_exporter": "python",
   "pygments_lexer": "ipython3",
   "version": "3.9.18"
  }
 },
 "nbformat": 4,
 "nbformat_minor": 5
}
