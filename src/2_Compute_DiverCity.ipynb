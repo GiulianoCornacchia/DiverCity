{
 "cells": [
  {
   "cell_type": "markdown",
   "id": "77140dcf-20da-4a6a-bdec-48d10596ddd2",
   "metadata": {},
   "source": [
    "# Notebook 2: Compute DiverCity Metrics\n",
    "\n",
    "---\n",
    "\n",
    "## Overview\n",
    "This notebook executes the DiverCity computation for the specified city using the previously downloaded road network data. It calculates alternative routes and evaluates route diversification metrics, following the DiverCity framework.\n",
    "\n",
    "The computation involves:\n",
    "- Loading the road network data\n",
    "- Defining route penalization factors and epsilon values for Near-Shortest Routes (NSR)\n",
    "- Computing alternative routes using Path Penalization (PP)\n",
    "- Evaluating route diversity metrics for each origin-destination pair\n",
    "\n",
    "---\n",
    "\n",
    "## Objectives\n",
    "1. **Compute Alternative Routes**: Generate alternative routes using Path Penalization.\n",
    "2. **Evaluate Route Diversity**: Measure route diversification using DiverCity metrics.\n",
    "3. **Store Results**: Save the computed routes and metrics for further analysis.\n",
    "\n",
    "---\n",
    "\n",
    "## Configuration and Parameters\n",
    "The following parameters are required for the computation:\n",
    "- `city_name`: Name of the city to analyze.\n",
    "- `city_center`: Latitude and longitude of the city center.\n",
    "- `exp_id`: Unique identifier for the experiment.\n",
    "- `list_p`: Penalization factors for Path Penalization (PP).\n",
    "- `list_eps`: Epsilon values for Near-Shortest Routes (NSR).\n",
    "- `k`: Number of alternative routes to compute.\n",
    "- `attribute`: Path attribute to optimize (e.g., `traveltime`).\n",
    "- `radius_range`: Range of radii for radial sampling.\n",
    "- `samples_per_circle`: Number of samples per circle for origin-destination pairs.\n",
    "- `save_routes`: Whether to save the generated routes for post-analysis.\n",
    "\n",
    "---\n",
    "\n",
    "## Output\n",
    "The computation produces the following outputs:\n",
    "- **Generated Routes**: Alternative routes stored as compressed files.\n",
    "- **DiverCity Metrics**: Computed route diversification metrics.\n",
    "- **Visualization Thumbnails**: Map thumbnails showing the network and sampled points.\n",
    "\n",
    "All results are stored in the output folder:\n"
   ]
  },
  {
   "cell_type": "code",
   "execution_count": 46,
   "id": "c8a197cd-402b-4d5d-9bc2-e20cf7b7ad2e",
   "metadata": {},
   "outputs": [],
   "source": [
    "from divercity_utils import compute_divercity_city"
   ]
  },
  {
   "cell_type": "markdown",
   "id": "b9d15e70-febe-4a33-999a-81e4559179da",
   "metadata": {},
   "source": [
    "### 1. Setting the Experiments"
   ]
  },
  {
   "cell_type": "markdown",
   "id": "f3531a3b-10d6-406a-8423-92fc5c70ab98",
   "metadata": {},
   "source": [
    "#### 1.1 Parameters"
   ]
  },
  {
   "cell_type": "code",
   "execution_count": 47,
   "id": "536d7b1a-6c68-45d3-96a9-b235a9d97f07",
   "metadata": {},
   "outputs": [],
   "source": [
    "exp_id = \"exp_pisa\"\n",
    "\n",
    "city_name = \"pisa\"\n",
    "city_center = (43.715906, 10.401866)\n",
    "\n",
    "# Sampling parameters\n",
    "min_radius_km = 1\n",
    "max_radius_km = 10\n",
    "radius_step_km = 1\n",
    "n_samples_circle = 6\n",
    "\n",
    "list_p = [0.1, 0.2, 0.3]\n",
    "list_eps = [0.1, 0.3, 0.5]\n",
    "\n",
    "k = 5\n",
    "attribute = \"travel_time\"\n",
    "\n",
    "save_routes = 1\n",
    "\n",
    "directory_path = '../data/results/'"
   ]
  },
  {
   "cell_type": "markdown",
   "id": "4f9541db-5716-48b7-8619-ff2c2bd53e0d",
   "metadata": {},
   "source": [
    "#### 1.2 Launch the execution"
   ]
  },
  {
   "cell_type": "code",
   "execution_count": 51,
   "id": "a4f47b49-d9e7-409a-9e33-b525cc7c484d",
   "metadata": {},
   "outputs": [
    {
     "name": "stdout",
     "output_type": "stream",
     "text": [
      "\n",
      "========================================\n",
      "         Experiment Configuration         \n",
      "========================================\n",
      "City:                       pisa\n",
      "City Center Coordinates:    (43.715906, 10.401866)\n",
      "Experiment ID:              exp_pisa\n",
      "----------------------------------------\n",
      "Radii (min → max, step):    1 km → 10 km, step 1 km\n",
      "Samples per Radius Circle:  6\n",
      "Threshold Distance [km]:    0.5\n",
      "----------------------------------------\n",
      "Speed Reduction Factor:     1\n",
      "----------------------------------------\n",
      "Penalization Factors (p):   [0.1, 0.2, 0.3]\n",
      "Epsilon Values (eps):       [0.1, 0.3, 0.5]\n",
      "Number of Routes (k):       5\n",
      "k as Route Count:           True\n",
      "========================================\n",
      "Using k as the number of desired routes (up to 5 routes will be computed in at most 1000 iterations). [standard]\n",
      "output folder ../data/results/pisa_exp_pisa/\n",
      "*************\n",
      "Compressed network found: ../data/road_networks/pisa_drive_11000.graphml.gz\n",
      "Decompressing and loading network...\n",
      "----------------------------------------\n",
      "\n",
      "========================================\n",
      "         No Speed Reduction Applied         \n",
      "========================================\n",
      "\n",
      "========================================\n",
      "         Road Network Information         \n",
      "========================================\n",
      "Number of Nodes:           6013\n",
      "Number of Edges:           13006\n",
      "----------------------------------------\n",
      "\n",
      "========================================\n",
      "         Radial Sampling Information         \n",
      "========================================\n",
      "Performing Radial Sampling with the following settings:\n",
      "Radii Range (km):          1 → 10 (Step: 1)\n",
      "Threshold Distance (km):   0.5\n",
      "Samples per Circle:        6\n",
      "----------------------------------------\n",
      "Computed Radii List:       [ 1.  2.  3.  4.  5.  6.  7.  8.  9. 10.]\n",
      "========================================\n",
      "\n",
      "========================================\n",
      "         Route Computation Completed         \n",
      "========================================\n",
      "Saving generated routes to file: ../data/results/pisa_exp_pisa/generated_routes.lz4\n",
      "----------------------------------------\n",
      "\n",
      "========================================\n",
      "         Results Computation Completed         \n",
      "========================================\n",
      "Saving results to file: ../data/results/pisa_exp_pisa/results.json\n",
      "----------------------------------------\n",
      "Exp_id: exp_pisa [pisa] - Execution time: 5.61 seconds\n"
     ]
    }
   ],
   "source": [
    "compute_divercity_city(city_name, city_center, exp_id, list_p, list_eps, k, attribute, \n",
    "                                min_radius_km, max_radius_km, radius_step_km, \n",
    "                                n_samples_circle, save_routes)"
   ]
  }
 ],
 "metadata": {
  "kernelspec": {
   "display_name": "Python 3 (ipykernel)",
   "language": "python",
   "name": "python3"
  },
  "language_info": {
   "codemirror_mode": {
    "name": "ipython",
    "version": 3
   },
   "file_extension": ".py",
   "mimetype": "text/x-python",
   "name": "python",
   "nbconvert_exporter": "python",
   "pygments_lexer": "ipython3",
   "version": "3.9.18"
  }
 },
 "nbformat": 4,
 "nbformat_minor": 5
}
